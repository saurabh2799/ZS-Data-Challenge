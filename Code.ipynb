{
 "cells": [
  {
   "cell_type": "code",
   "execution_count": 1,
   "metadata": {},
   "outputs": [],
   "source": [
    "import pandas as pd\n",
    "import numpy as np\n",
    "from sklearn.linear_model import LogisticRegression\n",
    "from sklearn.metrics import mean_absolute_error\n",
    "from sklearn.metrics import mean_squared_error\n",
    "import math"
   ]
  },
  {
   "cell_type": "code",
   "execution_count": 2,
   "metadata": {},
   "outputs": [],
   "source": [
    "data = pd.read_csv('./data.csv',index_col = 0)"
   ]
  },
  {
   "cell_type": "code",
   "execution_count": 3,
   "metadata": {},
   "outputs": [
    {
     "data": {
      "text/plain": [
       "(30697, 27)"
      ]
     },
     "execution_count": 3,
     "metadata": {},
     "output_type": "execute_result"
    }
   ],
   "source": [
    "data.shape"
   ]
  },
  {
   "cell_type": "code",
   "execution_count": 4,
   "metadata": {},
   "outputs": [
    {
     "data": {
      "text/html": [
       "<div>\n",
       "<style scoped>\n",
       "    .dataframe tbody tr th:only-of-type {\n",
       "        vertical-align: middle;\n",
       "    }\n",
       "\n",
       "    .dataframe tbody tr th {\n",
       "        vertical-align: top;\n",
       "    }\n",
       "\n",
       "    .dataframe thead th {\n",
       "        text-align: right;\n",
       "    }\n",
       "</style>\n",
       "<table border=\"1\" class=\"dataframe\">\n",
       "  <thead>\n",
       "    <tr style=\"text-align: right;\">\n",
       "      <th></th>\n",
       "      <th>match_event_id</th>\n",
       "      <th>location_x</th>\n",
       "      <th>location_y</th>\n",
       "      <th>remaining_min</th>\n",
       "      <th>power_of_shot</th>\n",
       "      <th>knockout_match</th>\n",
       "      <th>game_season</th>\n",
       "      <th>remaining_sec</th>\n",
       "      <th>distance_of_shot</th>\n",
       "      <th>is_goal</th>\n",
       "      <th>...</th>\n",
       "      <th>lat/lng</th>\n",
       "      <th>type_of_shot</th>\n",
       "      <th>type_of_combined_shot</th>\n",
       "      <th>match_id</th>\n",
       "      <th>team_id</th>\n",
       "      <th>remaining_min.1</th>\n",
       "      <th>power_of_shot.1</th>\n",
       "      <th>knockout_match.1</th>\n",
       "      <th>remaining_sec.1</th>\n",
       "      <th>distance_of_shot.1</th>\n",
       "    </tr>\n",
       "  </thead>\n",
       "  <tbody>\n",
       "    <tr>\n",
       "      <th>0</th>\n",
       "      <td>10.0</td>\n",
       "      <td>167.0</td>\n",
       "      <td>72.0</td>\n",
       "      <td>10.0</td>\n",
       "      <td>1.0</td>\n",
       "      <td>0.0</td>\n",
       "      <td>2000-01</td>\n",
       "      <td>27.0</td>\n",
       "      <td>38.0</td>\n",
       "      <td>NaN</td>\n",
       "      <td>...</td>\n",
       "      <td>45.539131, -122.651648</td>\n",
       "      <td>shot - 30</td>\n",
       "      <td>NaN</td>\n",
       "      <td>20000012</td>\n",
       "      <td>1610612747</td>\n",
       "      <td>10.00</td>\n",
       "      <td>1.0</td>\n",
       "      <td>50.608</td>\n",
       "      <td>54.2000</td>\n",
       "      <td>38.0</td>\n",
       "    </tr>\n",
       "    <tr>\n",
       "      <th>1</th>\n",
       "      <td>12.0</td>\n",
       "      <td>-157.0</td>\n",
       "      <td>0.0</td>\n",
       "      <td>10.0</td>\n",
       "      <td>1.0</td>\n",
       "      <td>0.0</td>\n",
       "      <td>2000-01</td>\n",
       "      <td>22.0</td>\n",
       "      <td>35.0</td>\n",
       "      <td>0.0</td>\n",
       "      <td>...</td>\n",
       "      <td>45.539131, -122.651648</td>\n",
       "      <td>shot - 45</td>\n",
       "      <td>NaN</td>\n",
       "      <td>20000012</td>\n",
       "      <td>1610612747</td>\n",
       "      <td>10.00</td>\n",
       "      <td>1.0</td>\n",
       "      <td>28.800</td>\n",
       "      <td>22.0000</td>\n",
       "      <td>35.0</td>\n",
       "    </tr>\n",
       "    <tr>\n",
       "      <th>2</th>\n",
       "      <td>35.0</td>\n",
       "      <td>-101.0</td>\n",
       "      <td>135.0</td>\n",
       "      <td>7.0</td>\n",
       "      <td>1.0</td>\n",
       "      <td>0.0</td>\n",
       "      <td>2000-01</td>\n",
       "      <td>45.0</td>\n",
       "      <td>36.0</td>\n",
       "      <td>1.0</td>\n",
       "      <td>...</td>\n",
       "      <td>45.539131, -122.651648</td>\n",
       "      <td>shot - 25</td>\n",
       "      <td>NaN</td>\n",
       "      <td>20000012</td>\n",
       "      <td>1610612747</td>\n",
       "      <td>92.64</td>\n",
       "      <td>1.0</td>\n",
       "      <td>0.000</td>\n",
       "      <td>63.7216</td>\n",
       "      <td>54.4</td>\n",
       "    </tr>\n",
       "    <tr>\n",
       "      <th>3</th>\n",
       "      <td>43.0</td>\n",
       "      <td>138.0</td>\n",
       "      <td>175.0</td>\n",
       "      <td>6.0</td>\n",
       "      <td>1.0</td>\n",
       "      <td>0.0</td>\n",
       "      <td>2000-01</td>\n",
       "      <td>52.0</td>\n",
       "      <td>42.0</td>\n",
       "      <td>0.0</td>\n",
       "      <td>...</td>\n",
       "      <td>45.539131, -122.651648</td>\n",
       "      <td>NaN</td>\n",
       "      <td>shot - 3</td>\n",
       "      <td>20000012</td>\n",
       "      <td>1610612747</td>\n",
       "      <td>NaN</td>\n",
       "      <td>1.0</td>\n",
       "      <td>122.608</td>\n",
       "      <td>52.0000</td>\n",
       "      <td>42.0</td>\n",
       "    </tr>\n",
       "    <tr>\n",
       "      <th>4</th>\n",
       "      <td>155.0</td>\n",
       "      <td>0.0</td>\n",
       "      <td>0.0</td>\n",
       "      <td>NaN</td>\n",
       "      <td>2.0</td>\n",
       "      <td>0.0</td>\n",
       "      <td>2000-01</td>\n",
       "      <td>19.0</td>\n",
       "      <td>20.0</td>\n",
       "      <td>1.0</td>\n",
       "      <td>...</td>\n",
       "      <td>45.539131, -122.651648</td>\n",
       "      <td>NaN</td>\n",
       "      <td>shot - 1</td>\n",
       "      <td>20000012</td>\n",
       "      <td>1610612747</td>\n",
       "      <td>42.64</td>\n",
       "      <td>2.0</td>\n",
       "      <td>0.000</td>\n",
       "      <td>19.0000</td>\n",
       "      <td>20.0</td>\n",
       "    </tr>\n",
       "  </tbody>\n",
       "</table>\n",
       "<p>5 rows × 27 columns</p>\n",
       "</div>"
      ],
      "text/plain": [
       "   match_event_id  location_x  location_y  remaining_min  power_of_shot  \\\n",
       "0            10.0       167.0        72.0           10.0            1.0   \n",
       "1            12.0      -157.0         0.0           10.0            1.0   \n",
       "2            35.0      -101.0       135.0            7.0            1.0   \n",
       "3            43.0       138.0       175.0            6.0            1.0   \n",
       "4           155.0         0.0         0.0            NaN            2.0   \n",
       "\n",
       "   knockout_match game_season  remaining_sec  distance_of_shot  is_goal  \\\n",
       "0             0.0     2000-01           27.0              38.0      NaN   \n",
       "1             0.0     2000-01           22.0              35.0      0.0   \n",
       "2             0.0     2000-01           45.0              36.0      1.0   \n",
       "3             0.0     2000-01           52.0              42.0      0.0   \n",
       "4             0.0     2000-01           19.0              20.0      1.0   \n",
       "\n",
       "         ...                         lat/lng type_of_shot  \\\n",
       "0        ...          45.539131, -122.651648    shot - 30   \n",
       "1        ...          45.539131, -122.651648    shot - 45   \n",
       "2        ...          45.539131, -122.651648    shot - 25   \n",
       "3        ...          45.539131, -122.651648          NaN   \n",
       "4        ...          45.539131, -122.651648          NaN   \n",
       "\n",
       "  type_of_combined_shot  match_id     team_id remaining_min.1  \\\n",
       "0                   NaN  20000012  1610612747           10.00   \n",
       "1                   NaN  20000012  1610612747           10.00   \n",
       "2                   NaN  20000012  1610612747           92.64   \n",
       "3              shot - 3  20000012  1610612747             NaN   \n",
       "4              shot - 1  20000012  1610612747           42.64   \n",
       "\n",
       "   power_of_shot.1 knockout_match.1 remaining_sec.1 distance_of_shot.1  \n",
       "0              1.0           50.608         54.2000               38.0  \n",
       "1              1.0           28.800         22.0000               35.0  \n",
       "2              1.0            0.000         63.7216               54.4  \n",
       "3              1.0          122.608         52.0000               42.0  \n",
       "4              2.0            0.000         19.0000               20.0  \n",
       "\n",
       "[5 rows x 27 columns]"
      ]
     },
     "execution_count": 4,
     "metadata": {},
     "output_type": "execute_result"
    }
   ],
   "source": [
    "data.head()"
   ]
  },
  {
   "cell_type": "code",
   "execution_count": 5,
   "metadata": {},
   "outputs": [
    {
     "data": {
      "text/html": [
       "<div>\n",
       "<style scoped>\n",
       "    .dataframe tbody tr th:only-of-type {\n",
       "        vertical-align: middle;\n",
       "    }\n",
       "\n",
       "    .dataframe tbody tr th {\n",
       "        vertical-align: top;\n",
       "    }\n",
       "\n",
       "    .dataframe thead th {\n",
       "        text-align: right;\n",
       "    }\n",
       "</style>\n",
       "<table border=\"1\" class=\"dataframe\">\n",
       "  <thead>\n",
       "    <tr style=\"text-align: right;\">\n",
       "      <th></th>\n",
       "      <th>game_season</th>\n",
       "      <th>area_of_shot</th>\n",
       "      <th>shot_basics</th>\n",
       "      <th>range_of_shot</th>\n",
       "      <th>team_name</th>\n",
       "      <th>date_of_game</th>\n",
       "      <th>home/away</th>\n",
       "      <th>lat/lng</th>\n",
       "      <th>type_of_shot</th>\n",
       "      <th>type_of_combined_shot</th>\n",
       "    </tr>\n",
       "  </thead>\n",
       "  <tbody>\n",
       "    <tr>\n",
       "      <th>count</th>\n",
       "      <td>24835</td>\n",
       "      <td>29195</td>\n",
       "      <td>29122</td>\n",
       "      <td>29133</td>\n",
       "      <td>29162</td>\n",
       "      <td>29147</td>\n",
       "      <td>29200</td>\n",
       "      <td>29132</td>\n",
       "      <td>15417</td>\n",
       "      <td>15280</td>\n",
       "    </tr>\n",
       "    <tr>\n",
       "      <th>unique</th>\n",
       "      <td>20</td>\n",
       "      <td>6</td>\n",
       "      <td>7</td>\n",
       "      <td>5</td>\n",
       "      <td>1</td>\n",
       "      <td>1558</td>\n",
       "      <td>74</td>\n",
       "      <td>38</td>\n",
       "      <td>57</td>\n",
       "      <td>6</td>\n",
       "    </tr>\n",
       "    <tr>\n",
       "      <th>top</th>\n",
       "      <td>2005-06</td>\n",
       "      <td>Center(C)</td>\n",
       "      <td>Mid Range</td>\n",
       "      <td>Less Than 8 ft.</td>\n",
       "      <td>Manchester United</td>\n",
       "      <td>2016-04-13</td>\n",
       "      <td>MANU @ SAS</td>\n",
       "      <td>42.982923, -71.446094</td>\n",
       "      <td>shot - 39</td>\n",
       "      <td>shot - 3</td>\n",
       "    </tr>\n",
       "    <tr>\n",
       "      <th>freq</th>\n",
       "      <td>1911</td>\n",
       "      <td>12761</td>\n",
       "      <td>11955</td>\n",
       "      <td>8933</td>\n",
       "      <td>29162</td>\n",
       "      <td>49</td>\n",
       "      <td>971</td>\n",
       "      <td>14171</td>\n",
       "      <td>1445</td>\n",
       "      <td>11685</td>\n",
       "    </tr>\n",
       "  </tbody>\n",
       "</table>\n",
       "</div>"
      ],
      "text/plain": [
       "       game_season area_of_shot shot_basics    range_of_shot  \\\n",
       "count        24835        29195       29122            29133   \n",
       "unique          20            6           7                5   \n",
       "top        2005-06    Center(C)   Mid Range  Less Than 8 ft.   \n",
       "freq          1911        12761       11955             8933   \n",
       "\n",
       "                team_name date_of_game   home/away                lat/lng  \\\n",
       "count               29162        29147       29200                  29132   \n",
       "unique                  1         1558          74                     38   \n",
       "top     Manchester United   2016-04-13  MANU @ SAS  42.982923, -71.446094   \n",
       "freq                29162           49         971                  14171   \n",
       "\n",
       "       type_of_shot type_of_combined_shot  \n",
       "count         15417                 15280  \n",
       "unique           57                     6  \n",
       "top       shot - 39              shot - 3  \n",
       "freq           1445                 11685  "
      ]
     },
     "execution_count": 5,
     "metadata": {},
     "output_type": "execute_result"
    }
   ],
   "source": [
    "data.describe(include = ['object'])"
   ]
  },
  {
   "cell_type": "markdown",
   "metadata": {},
   "source": [
    "# HOME/AWAY"
   ]
  },
  {
   "cell_type": "code",
   "execution_count": 6,
   "metadata": {},
   "outputs": [],
   "source": [
    "temp = data\n",
    "column = ['home/away']\n",
    "temp.loc[:,column] = temp.loc[:,column].ffill()"
   ]
  },
  {
   "cell_type": "code",
   "execution_count": 7,
   "metadata": {},
   "outputs": [],
   "source": [
    "def replace_(x):\n",
    "    \n",
    "    if type(x) == str :\n",
    "        if x.find('@') != -1 :\n",
    "            return 1\n",
    "        else :\n",
    "            return 0\n",
    "    else :\n",
    "        return -1"
   ]
  },
  {
   "cell_type": "code",
   "execution_count": 8,
   "metadata": {},
   "outputs": [],
   "source": [
    "temp['home_index'] = temp['home/away'].apply(replace_)\n",
    "temp['home/away'] = temp['home/away'].str.replace(' @ ','')\n",
    "temp['home/away'] = temp['home/away'].str.replace(' vs. ','')"
   ]
  },
  {
   "cell_type": "code",
   "execution_count": 9,
   "metadata": {},
   "outputs": [
    {
     "data": {
      "text/html": [
       "<div>\n",
       "<style scoped>\n",
       "    .dataframe tbody tr th:only-of-type {\n",
       "        vertical-align: middle;\n",
       "    }\n",
       "\n",
       "    .dataframe tbody tr th {\n",
       "        vertical-align: top;\n",
       "    }\n",
       "\n",
       "    .dataframe thead th {\n",
       "        text-align: right;\n",
       "    }\n",
       "</style>\n",
       "<table border=\"1\" class=\"dataframe\">\n",
       "  <thead>\n",
       "    <tr style=\"text-align: right;\">\n",
       "      <th></th>\n",
       "      <th>game_season</th>\n",
       "      <th>area_of_shot</th>\n",
       "      <th>shot_basics</th>\n",
       "      <th>range_of_shot</th>\n",
       "      <th>team_name</th>\n",
       "      <th>date_of_game</th>\n",
       "      <th>home/away</th>\n",
       "      <th>lat/lng</th>\n",
       "      <th>type_of_shot</th>\n",
       "      <th>type_of_combined_shot</th>\n",
       "    </tr>\n",
       "  </thead>\n",
       "  <tbody>\n",
       "    <tr>\n",
       "      <th>count</th>\n",
       "      <td>24835</td>\n",
       "      <td>29195</td>\n",
       "      <td>29122</td>\n",
       "      <td>29133</td>\n",
       "      <td>29162</td>\n",
       "      <td>29147</td>\n",
       "      <td>30697</td>\n",
       "      <td>29132</td>\n",
       "      <td>15417</td>\n",
       "      <td>15280</td>\n",
       "    </tr>\n",
       "    <tr>\n",
       "      <th>unique</th>\n",
       "      <td>20</td>\n",
       "      <td>6</td>\n",
       "      <td>7</td>\n",
       "      <td>5</td>\n",
       "      <td>1</td>\n",
       "      <td>1558</td>\n",
       "      <td>38</td>\n",
       "      <td>38</td>\n",
       "      <td>57</td>\n",
       "      <td>6</td>\n",
       "    </tr>\n",
       "    <tr>\n",
       "      <th>top</th>\n",
       "      <td>2005-06</td>\n",
       "      <td>Center(C)</td>\n",
       "      <td>Mid Range</td>\n",
       "      <td>Less Than 8 ft.</td>\n",
       "      <td>Manchester United</td>\n",
       "      <td>2016-04-13</td>\n",
       "      <td>MANUSAS</td>\n",
       "      <td>42.982923, -71.446094</td>\n",
       "      <td>shot - 39</td>\n",
       "      <td>shot - 3</td>\n",
       "    </tr>\n",
       "    <tr>\n",
       "      <th>freq</th>\n",
       "      <td>1911</td>\n",
       "      <td>12761</td>\n",
       "      <td>11955</td>\n",
       "      <td>8933</td>\n",
       "      <td>29162</td>\n",
       "      <td>49</td>\n",
       "      <td>1955</td>\n",
       "      <td>14171</td>\n",
       "      <td>1445</td>\n",
       "      <td>11685</td>\n",
       "    </tr>\n",
       "  </tbody>\n",
       "</table>\n",
       "</div>"
      ],
      "text/plain": [
       "       game_season area_of_shot shot_basics    range_of_shot  \\\n",
       "count        24835        29195       29122            29133   \n",
       "unique          20            6           7                5   \n",
       "top        2005-06    Center(C)   Mid Range  Less Than 8 ft.   \n",
       "freq          1911        12761       11955             8933   \n",
       "\n",
       "                team_name date_of_game home/away                lat/lng  \\\n",
       "count               29162        29147     30697                  29132   \n",
       "unique                  1         1558        38                     38   \n",
       "top     Manchester United   2016-04-13   MANUSAS  42.982923, -71.446094   \n",
       "freq                29162           49      1955                  14171   \n",
       "\n",
       "       type_of_shot type_of_combined_shot  \n",
       "count         15417                 15280  \n",
       "unique           57                     6  \n",
       "top       shot - 39              shot - 3  \n",
       "freq           1445                 11685  "
      ]
     },
     "execution_count": 9,
     "metadata": {},
     "output_type": "execute_result"
    }
   ],
   "source": [
    "temp.describe(include = ['object'])"
   ]
  },
  {
   "cell_type": "markdown",
   "metadata": {},
   "source": [
    "temp.to_csv(r'./hello.csv')"
   ]
  },
  {
   "cell_type": "markdown",
   "metadata": {},
   "source": [
    "# DELETE UNECESSARY"
   ]
  },
  {
   "cell_type": "code",
   "execution_count": 10,
   "metadata": {},
   "outputs": [],
   "source": [
    "del temp['match_event_id']"
   ]
  },
  {
   "cell_type": "code",
   "execution_count": 11,
   "metadata": {},
   "outputs": [],
   "source": [
    "del temp['match_id']"
   ]
  },
  {
   "cell_type": "code",
   "execution_count": 12,
   "metadata": {},
   "outputs": [],
   "source": [
    "del temp['team_id']"
   ]
  },
  {
   "cell_type": "code",
   "execution_count": null,
   "metadata": {},
   "outputs": [],
   "source": []
  },
  {
   "cell_type": "code",
   "execution_count": 13,
   "metadata": {},
   "outputs": [],
   "source": [
    "del temp['team_name']"
   ]
  },
  {
   "cell_type": "code",
   "execution_count": 14,
   "metadata": {},
   "outputs": [],
   "source": [
    "del temp['date_of_game']"
   ]
  },
  {
   "cell_type": "code",
   "execution_count": null,
   "metadata": {},
   "outputs": [],
   "source": []
  },
  {
   "cell_type": "code",
   "execution_count": null,
   "metadata": {},
   "outputs": [],
   "source": []
  },
  {
   "cell_type": "markdown",
   "metadata": {},
   "source": [
    "# POWER_OF_SHOT"
   ]
  },
  {
   "cell_type": "code",
   "execution_count": 15,
   "metadata": {},
   "outputs": [],
   "source": [
    "def replace_power(x):\n",
    "    \n",
    "    if math.isnan(x['power_of_shot']) :\n",
    "        \n",
    "        if x['power_of_shot.1'] in [1,2,3,4,5,6,7] :\n",
    "            return x['power_of_shot.1']\n",
    "        else :\n",
    "            return 3\n",
    "        \n",
    "    else:\n",
    "        return x['power_of_shot']\n",
    "    "
   ]
  },
  {
   "cell_type": "code",
   "execution_count": 16,
   "metadata": {},
   "outputs": [],
   "source": [
    "temp['power_of_shot_new'] = temp.apply(replace_power,axis=1)\n",
    "del temp['power_of_shot']\n",
    "del temp['power_of_shot.1']"
   ]
  },
  {
   "cell_type": "markdown",
   "metadata": {},
   "source": [
    "# REMAINING_MIN"
   ]
  },
  {
   "cell_type": "code",
   "execution_count": 17,
   "metadata": {},
   "outputs": [],
   "source": [
    "def replace_min(x):\n",
    "    \n",
    "    if math.isnan(x['remaining_min']) :\n",
    "        \n",
    "        if x['remaining_min.1'] in [0,1,2,3,4,5,6,7,8,9,10,11] :\n",
    "            return x['remaining_min.1']\n",
    "        else :\n",
    "            return 0\n",
    "        \n",
    "    else:\n",
    "        return x['remaining_min']"
   ]
  },
  {
   "cell_type": "code",
   "execution_count": 18,
   "metadata": {},
   "outputs": [],
   "source": [
    "temp['remaining_min_new'] = temp.apply(replace_min,axis=1)\n",
    "del temp['remaining_min']\n",
    "del temp['remaining_min.1']"
   ]
  },
  {
   "cell_type": "markdown",
   "metadata": {},
   "source": [
    "# REMAINING_SEC"
   ]
  },
  {
   "cell_type": "code",
   "execution_count": 19,
   "metadata": {},
   "outputs": [],
   "source": [
    "def replace_sec(x):\n",
    "    \n",
    "    if math.isnan(x['remaining_sec']) :\n",
    "        \n",
    "        if x['remaining_sec.1'] in np.arange(60) :\n",
    "            return x['remaining_sec.1']\n",
    "        else :\n",
    "            return 30\n",
    "        \n",
    "    else:\n",
    "        return x['remaining_sec']"
   ]
  },
  {
   "cell_type": "code",
   "execution_count": 20,
   "metadata": {},
   "outputs": [],
   "source": [
    "temp['remaining_sec_new'] = temp.apply(replace_sec,axis=1)\n",
    "del temp['remaining_sec']\n",
    "del temp['remaining_sec.1']"
   ]
  },
  {
   "cell_type": "markdown",
   "metadata": {},
   "source": [
    "# CREATE_REMAINING TIME"
   ]
  },
  {
   "cell_type": "code",
   "execution_count": 21,
   "metadata": {},
   "outputs": [],
   "source": [
    "temp['remaining_time_new'] = temp['remaining_min_new']*60 + temp['remaining_sec_new']\n",
    "del temp['remaining_sec_new']\n",
    "del temp['remaining_min_new']"
   ]
  },
  {
   "cell_type": "markdown",
   "metadata": {},
   "source": [
    "# DISTANCE OF SHOT"
   ]
  },
  {
   "cell_type": "code",
   "execution_count": 22,
   "metadata": {},
   "outputs": [],
   "source": [
    "def replace_distance(x):\n",
    "    \n",
    "    if math.isnan(x['distance_of_shot']) :\n",
    "        \n",
    "        if x['distance_of_shot.1'] in np.arange(20,100) :\n",
    "            return x['distance_of_shot.1']\n",
    "        elif x['range_of_shot'] == \"Less Than 8ft.\" :\n",
    "            return 20\n",
    "        elif x['range_of_shot'] == \"Back Court Shot\" :\n",
    "            return 73\n",
    "        elif x['range_of_shot'] == \"8-16 ft.\" :\n",
    "            return 32\n",
    "        elif x['range_of_shot'] == \"24+ ft.\" :\n",
    "            return 46\n",
    "        elif x['range_of_shot'] == \"16-24 ft.\" :\n",
    "            return 39\n",
    "        else :\n",
    "            return 20\n",
    "    else:\n",
    "        return x['distance_of_shot']"
   ]
  },
  {
   "cell_type": "code",
   "execution_count": 23,
   "metadata": {},
   "outputs": [],
   "source": [
    "temp['distance_of_shot_new'] = temp.apply(replace_distance,axis=1)\n",
    "del temp['distance_of_shot']\n",
    "del temp['distance_of_shot.1']"
   ]
  },
  {
   "cell_type": "code",
   "execution_count": null,
   "metadata": {},
   "outputs": [],
   "source": []
  },
  {
   "cell_type": "code",
   "execution_count": null,
   "metadata": {},
   "outputs": [],
   "source": []
  },
  {
   "cell_type": "markdown",
   "metadata": {},
   "source": [
    "# KNOCKOUT_MATCH"
   ]
  },
  {
   "cell_type": "code",
   "execution_count": 24,
   "metadata": {},
   "outputs": [],
   "source": [
    "column = ['knockout_match']\n",
    "temp.loc[:,column] = temp.loc[:,column].ffill()\n",
    "del temp['knockout_match.1']"
   ]
  },
  {
   "cell_type": "code",
   "execution_count": null,
   "metadata": {},
   "outputs": [],
   "source": []
  },
  {
   "cell_type": "code",
   "execution_count": null,
   "metadata": {},
   "outputs": [],
   "source": []
  },
  {
   "cell_type": "markdown",
   "metadata": {},
   "source": [
    "# LOCATION_X"
   ]
  },
  {
   "cell_type": "code",
   "execution_count": 25,
   "metadata": {},
   "outputs": [],
   "source": [
    "def replace_x(t):\n",
    "    \n",
    "    if math.isnan(t['location_x']) :\n",
    "        \n",
    "        if not(math.isnan(t['location_y'])):\n",
    "            \n",
    "            val = t['location_y']\n",
    "            \n",
    "            df = returndata(val)\n",
    "            \n",
    "            if (type(t['area_of_shot']) == str) :\n",
    "                \n",
    "                area = t['area_of_shot']\n",
    "                val_1 = df[df['area_of_shot'] == area]['location_x'].abs().mean()\n",
    "                \n",
    "                if math.isnan(val_1) :\n",
    "                    val_2 =  temp[(temp['area_of_shot'] == area)& (temp['location_x'].notna()) ]['location_x'].abs().mean()\n",
    "                    return round(val_2)\n",
    "                else :\n",
    "                    return round(val_1)\n",
    "            \n",
    "            else :\n",
    "                \n",
    "                val_1 = df['location_x'].abs().mean()\n",
    "                if math.isnan(val_1) :\n",
    "                    val_2 =  temp[temp['location_x'].notna()]['location_x'].abs().mean()\n",
    "                    return round(val_2)\n",
    "                else :\n",
    "                    return round(val_1)\n",
    "            \n",
    "        else :\n",
    "            \n",
    "            df = returndata1()\n",
    "            if (type(t['area_of_shot']) == str) :\n",
    "                \n",
    "                area = t['area_of_shot']\n",
    "                val_1 = df[df['area_of_shot'] == area]['location_x'].abs().mean()\n",
    "                if math.isnan(val_1) :\n",
    "                    val_2 = temp[(temp['area_of_shot'] == area)& (temp['location_x'].notna()) ]['location_x'].abs().mean()\n",
    "                    return round(val_2)\n",
    "                else :\n",
    "                    return round(val_1)\n",
    "            \n",
    "            else :\n",
    "                \n",
    "                val_1 = df['location_x'].abs().mean()\n",
    "                if math.isnan(val_1) :\n",
    "                    val_2 = temp[temp['location_x'].notna()]['location_x'].abs().mean()\n",
    "                    return round(val_2)\n",
    "                else :\n",
    "                    return round(val_1)\n",
    "             \n",
    "            \n",
    "    else:\n",
    "        return t['location_x']\n",
    "    \n",
    "\n",
    "def returndata(val):\n",
    "    \n",
    "    df = temp[(abs(temp['location_y'] - val) <= 5) & (temp['location_x'].notna())]\n",
    "    return df\n",
    "\n",
    "def returndata1():\n",
    "    \n",
    "    df = temp[temp['location_x'].notna()]\n",
    "    return df\n"
   ]
  },
  {
   "cell_type": "code",
   "execution_count": 26,
   "metadata": {},
   "outputs": [],
   "source": [
    "temp['location_x_new'] = temp.apply(replace_x,axis=1)\n",
    "del temp['location_x']"
   ]
  },
  {
   "cell_type": "markdown",
   "metadata": {},
   "source": [
    "# LOCATION_Y"
   ]
  },
  {
   "cell_type": "code",
   "execution_count": 27,
   "metadata": {},
   "outputs": [],
   "source": [
    "def replace_y(t):\n",
    "    \n",
    "    if math.isnan(t['location_y']) :\n",
    "        \n",
    "        if not(math.isnan(t['location_x_new'])):\n",
    "            \n",
    "            val = t['location_x_new']\n",
    "\n",
    "            df = returndata(val)\n",
    "            \n",
    "            if (type(t['area_of_shot']) == str) :\n",
    "                \n",
    "                area = t['area_of_shot']\n",
    "                val_1 = df[df['area_of_shot'] == area]['location_y'].abs().mean()\n",
    "                \n",
    "                if math.isnan(val_1) :\n",
    "                    return round(temp[(temp['area_of_shot'] == area)& (temp['location_y'].notna()) ]['location_y'].abs().mean())\n",
    "                else :\n",
    "                    return round(val_1)\n",
    "            \n",
    "            else :\n",
    "                \n",
    "                val_1 = df['location_y'].abs().mean()\n",
    "                if math.isnan(val_1) :\n",
    "                    return round(temp[temp['location_y'].notna()]['location_y'].abs().mean())\n",
    "                else :\n",
    "                    return round(val_1)\n",
    "            \n",
    "        else :\n",
    "            \n",
    "            df = returndata1()\n",
    "            if (type(t['area_of_shot']) == str) :\n",
    "                \n",
    "                area = t['area_of_shot']\n",
    "                val_1 = df[df['area_of_shot'] == area]['location_y'].abs().mean()\n",
    "                if math.isnan(val_1) :\n",
    "                    return round(temp[(temp['area_of_shot'] == area)& (temp['location_y'].notna()) ]['location_y'].abs().mean())\n",
    "                else :\n",
    "                    return round(val_1)\n",
    "            \n",
    "            else :\n",
    "                \n",
    "                val_1 = df['location_y'].abs().mean()\n",
    "                if math.isnan(val_1) :\n",
    "                    return round(temp[temp['location_y'].notna()]['location_y'].abs().mean())\n",
    "                else :\n",
    "                    return round(val_1)\n",
    "             \n",
    "            \n",
    "    else:\n",
    "        return t['location_y']\n",
    "    \n",
    "\n",
    "def returndata(val):\n",
    "    \n",
    "    df = temp[(abs(temp['location_x_new'] - val) <= 5) & (temp['location_y'].notna())]\n",
    "    return df\n",
    "\n",
    "def returndata1():\n",
    "    \n",
    "    df = temp[temp['location_y'].notna()]\n",
    "    return df\n"
   ]
  },
  {
   "cell_type": "code",
   "execution_count": 28,
   "metadata": {},
   "outputs": [],
   "source": [
    "temp['location_y_new'] = temp.apply(replace_y,axis=1)\n",
    "del temp['location_y']"
   ]
  },
  {
   "cell_type": "code",
   "execution_count": 29,
   "metadata": {},
   "outputs": [
    {
     "data": {
      "text/html": [
       "<div>\n",
       "<style scoped>\n",
       "    .dataframe tbody tr th:only-of-type {\n",
       "        vertical-align: middle;\n",
       "    }\n",
       "\n",
       "    .dataframe tbody tr th {\n",
       "        vertical-align: top;\n",
       "    }\n",
       "\n",
       "    .dataframe thead th {\n",
       "        text-align: right;\n",
       "    }\n",
       "</style>\n",
       "<table border=\"1\" class=\"dataframe\">\n",
       "  <thead>\n",
       "    <tr style=\"text-align: right;\">\n",
       "      <th></th>\n",
       "      <th>knockout_match</th>\n",
       "      <th>game_season</th>\n",
       "      <th>is_goal</th>\n",
       "      <th>area_of_shot</th>\n",
       "      <th>shot_basics</th>\n",
       "      <th>range_of_shot</th>\n",
       "      <th>home/away</th>\n",
       "      <th>shot_id_number</th>\n",
       "      <th>lat/lng</th>\n",
       "      <th>type_of_shot</th>\n",
       "      <th>type_of_combined_shot</th>\n",
       "      <th>home_index</th>\n",
       "      <th>power_of_shot_new</th>\n",
       "      <th>remaining_time_new</th>\n",
       "      <th>distance_of_shot_new</th>\n",
       "      <th>location_x_new</th>\n",
       "      <th>location_y_new</th>\n",
       "    </tr>\n",
       "  </thead>\n",
       "  <tbody>\n",
       "    <tr>\n",
       "      <th>0</th>\n",
       "      <td>0.0</td>\n",
       "      <td>2000-01</td>\n",
       "      <td>NaN</td>\n",
       "      <td>Right Side(R)</td>\n",
       "      <td>Mid Range</td>\n",
       "      <td>16-24 ft.</td>\n",
       "      <td>MANUPOR</td>\n",
       "      <td>1.0</td>\n",
       "      <td>45.539131, -122.651648</td>\n",
       "      <td>shot - 30</td>\n",
       "      <td>NaN</td>\n",
       "      <td>1</td>\n",
       "      <td>1.0</td>\n",
       "      <td>627.0</td>\n",
       "      <td>38.0</td>\n",
       "      <td>167.0</td>\n",
       "      <td>72.0</td>\n",
       "    </tr>\n",
       "    <tr>\n",
       "      <th>1</th>\n",
       "      <td>0.0</td>\n",
       "      <td>2000-01</td>\n",
       "      <td>0.0</td>\n",
       "      <td>Left Side(L)</td>\n",
       "      <td>Mid Range</td>\n",
       "      <td>8-16 ft.</td>\n",
       "      <td>MANUPOR</td>\n",
       "      <td>2.0</td>\n",
       "      <td>45.539131, -122.651648</td>\n",
       "      <td>shot - 45</td>\n",
       "      <td>NaN</td>\n",
       "      <td>1</td>\n",
       "      <td>1.0</td>\n",
       "      <td>622.0</td>\n",
       "      <td>35.0</td>\n",
       "      <td>-157.0</td>\n",
       "      <td>0.0</td>\n",
       "    </tr>\n",
       "    <tr>\n",
       "      <th>2</th>\n",
       "      <td>0.0</td>\n",
       "      <td>2000-01</td>\n",
       "      <td>1.0</td>\n",
       "      <td>Left Side Center(LC)</td>\n",
       "      <td>Mid Range</td>\n",
       "      <td>16-24 ft.</td>\n",
       "      <td>MANUPOR</td>\n",
       "      <td>3.0</td>\n",
       "      <td>45.539131, -122.651648</td>\n",
       "      <td>shot - 25</td>\n",
       "      <td>NaN</td>\n",
       "      <td>1</td>\n",
       "      <td>1.0</td>\n",
       "      <td>465.0</td>\n",
       "      <td>36.0</td>\n",
       "      <td>-101.0</td>\n",
       "      <td>135.0</td>\n",
       "    </tr>\n",
       "    <tr>\n",
       "      <th>3</th>\n",
       "      <td>0.0</td>\n",
       "      <td>2000-01</td>\n",
       "      <td>0.0</td>\n",
       "      <td>Right Side Center(RC)</td>\n",
       "      <td>Mid Range</td>\n",
       "      <td>16-24 ft.</td>\n",
       "      <td>MANUPOR</td>\n",
       "      <td>4.0</td>\n",
       "      <td>45.539131, -122.651648</td>\n",
       "      <td>NaN</td>\n",
       "      <td>shot - 3</td>\n",
       "      <td>1</td>\n",
       "      <td>1.0</td>\n",
       "      <td>412.0</td>\n",
       "      <td>42.0</td>\n",
       "      <td>138.0</td>\n",
       "      <td>175.0</td>\n",
       "    </tr>\n",
       "    <tr>\n",
       "      <th>4</th>\n",
       "      <td>0.0</td>\n",
       "      <td>2000-01</td>\n",
       "      <td>1.0</td>\n",
       "      <td>Center(C)</td>\n",
       "      <td>Goal Area</td>\n",
       "      <td>Less Than 8 ft.</td>\n",
       "      <td>MANUPOR</td>\n",
       "      <td>5.0</td>\n",
       "      <td>45.539131, -122.651648</td>\n",
       "      <td>NaN</td>\n",
       "      <td>shot - 1</td>\n",
       "      <td>1</td>\n",
       "      <td>2.0</td>\n",
       "      <td>19.0</td>\n",
       "      <td>20.0</td>\n",
       "      <td>0.0</td>\n",
       "      <td>0.0</td>\n",
       "    </tr>\n",
       "  </tbody>\n",
       "</table>\n",
       "</div>"
      ],
      "text/plain": [
       "   knockout_match game_season  is_goal           area_of_shot shot_basics  \\\n",
       "0             0.0     2000-01      NaN          Right Side(R)   Mid Range   \n",
       "1             0.0     2000-01      0.0           Left Side(L)   Mid Range   \n",
       "2             0.0     2000-01      1.0   Left Side Center(LC)   Mid Range   \n",
       "3             0.0     2000-01      0.0  Right Side Center(RC)   Mid Range   \n",
       "4             0.0     2000-01      1.0              Center(C)   Goal Area   \n",
       "\n",
       "     range_of_shot home/away  shot_id_number                 lat/lng  \\\n",
       "0        16-24 ft.   MANUPOR             1.0  45.539131, -122.651648   \n",
       "1         8-16 ft.   MANUPOR             2.0  45.539131, -122.651648   \n",
       "2        16-24 ft.   MANUPOR             3.0  45.539131, -122.651648   \n",
       "3        16-24 ft.   MANUPOR             4.0  45.539131, -122.651648   \n",
       "4  Less Than 8 ft.   MANUPOR             5.0  45.539131, -122.651648   \n",
       "\n",
       "  type_of_shot type_of_combined_shot  home_index  power_of_shot_new  \\\n",
       "0    shot - 30                   NaN           1                1.0   \n",
       "1    shot - 45                   NaN           1                1.0   \n",
       "2    shot - 25                   NaN           1                1.0   \n",
       "3          NaN              shot - 3           1                1.0   \n",
       "4          NaN              shot - 1           1                2.0   \n",
       "\n",
       "   remaining_time_new  distance_of_shot_new  location_x_new  location_y_new  \n",
       "0               627.0                  38.0           167.0            72.0  \n",
       "1               622.0                  35.0          -157.0             0.0  \n",
       "2               465.0                  36.0          -101.0           135.0  \n",
       "3               412.0                  42.0           138.0           175.0  \n",
       "4                19.0                  20.0             0.0             0.0  "
      ]
     },
     "execution_count": 29,
     "metadata": {},
     "output_type": "execute_result"
    }
   ],
   "source": [
    "temp.head()"
   ]
  },
  {
   "cell_type": "markdown",
   "metadata": {},
   "source": [
    "# DELETE REMAINING"
   ]
  },
  {
   "cell_type": "code",
   "execution_count": 30,
   "metadata": {},
   "outputs": [],
   "source": [
    "del temp['area_of_shot']\n",
    "del temp['range_of_shot']\n",
    "del temp['shot_id_number']"
   ]
  },
  {
   "cell_type": "code",
   "execution_count": 31,
   "metadata": {
    "scrolled": true
   },
   "outputs": [
    {
     "data": {
      "text/html": [
       "<div>\n",
       "<style scoped>\n",
       "    .dataframe tbody tr th:only-of-type {\n",
       "        vertical-align: middle;\n",
       "    }\n",
       "\n",
       "    .dataframe tbody tr th {\n",
       "        vertical-align: top;\n",
       "    }\n",
       "\n",
       "    .dataframe thead th {\n",
       "        text-align: right;\n",
       "    }\n",
       "</style>\n",
       "<table border=\"1\" class=\"dataframe\">\n",
       "  <thead>\n",
       "    <tr style=\"text-align: right;\">\n",
       "      <th></th>\n",
       "      <th>knockout_match</th>\n",
       "      <th>game_season</th>\n",
       "      <th>is_goal</th>\n",
       "      <th>shot_basics</th>\n",
       "      <th>home/away</th>\n",
       "      <th>lat/lng</th>\n",
       "      <th>type_of_shot</th>\n",
       "      <th>type_of_combined_shot</th>\n",
       "      <th>home_index</th>\n",
       "      <th>power_of_shot_new</th>\n",
       "      <th>remaining_time_new</th>\n",
       "      <th>distance_of_shot_new</th>\n",
       "      <th>location_x_new</th>\n",
       "      <th>location_y_new</th>\n",
       "    </tr>\n",
       "  </thead>\n",
       "  <tbody>\n",
       "    <tr>\n",
       "      <th>0</th>\n",
       "      <td>0.0</td>\n",
       "      <td>2000-01</td>\n",
       "      <td>NaN</td>\n",
       "      <td>Mid Range</td>\n",
       "      <td>MANUPOR</td>\n",
       "      <td>45.539131, -122.651648</td>\n",
       "      <td>shot - 30</td>\n",
       "      <td>NaN</td>\n",
       "      <td>1</td>\n",
       "      <td>1.0</td>\n",
       "      <td>627.0</td>\n",
       "      <td>38.0</td>\n",
       "      <td>167.0</td>\n",
       "      <td>72.0</td>\n",
       "    </tr>\n",
       "    <tr>\n",
       "      <th>1</th>\n",
       "      <td>0.0</td>\n",
       "      <td>2000-01</td>\n",
       "      <td>0.0</td>\n",
       "      <td>Mid Range</td>\n",
       "      <td>MANUPOR</td>\n",
       "      <td>45.539131, -122.651648</td>\n",
       "      <td>shot - 45</td>\n",
       "      <td>NaN</td>\n",
       "      <td>1</td>\n",
       "      <td>1.0</td>\n",
       "      <td>622.0</td>\n",
       "      <td>35.0</td>\n",
       "      <td>-157.0</td>\n",
       "      <td>0.0</td>\n",
       "    </tr>\n",
       "    <tr>\n",
       "      <th>2</th>\n",
       "      <td>0.0</td>\n",
       "      <td>2000-01</td>\n",
       "      <td>1.0</td>\n",
       "      <td>Mid Range</td>\n",
       "      <td>MANUPOR</td>\n",
       "      <td>45.539131, -122.651648</td>\n",
       "      <td>shot - 25</td>\n",
       "      <td>NaN</td>\n",
       "      <td>1</td>\n",
       "      <td>1.0</td>\n",
       "      <td>465.0</td>\n",
       "      <td>36.0</td>\n",
       "      <td>-101.0</td>\n",
       "      <td>135.0</td>\n",
       "    </tr>\n",
       "    <tr>\n",
       "      <th>3</th>\n",
       "      <td>0.0</td>\n",
       "      <td>2000-01</td>\n",
       "      <td>0.0</td>\n",
       "      <td>Mid Range</td>\n",
       "      <td>MANUPOR</td>\n",
       "      <td>45.539131, -122.651648</td>\n",
       "      <td>NaN</td>\n",
       "      <td>shot - 3</td>\n",
       "      <td>1</td>\n",
       "      <td>1.0</td>\n",
       "      <td>412.0</td>\n",
       "      <td>42.0</td>\n",
       "      <td>138.0</td>\n",
       "      <td>175.0</td>\n",
       "    </tr>\n",
       "    <tr>\n",
       "      <th>4</th>\n",
       "      <td>0.0</td>\n",
       "      <td>2000-01</td>\n",
       "      <td>1.0</td>\n",
       "      <td>Goal Area</td>\n",
       "      <td>MANUPOR</td>\n",
       "      <td>45.539131, -122.651648</td>\n",
       "      <td>NaN</td>\n",
       "      <td>shot - 1</td>\n",
       "      <td>1</td>\n",
       "      <td>2.0</td>\n",
       "      <td>19.0</td>\n",
       "      <td>20.0</td>\n",
       "      <td>0.0</td>\n",
       "      <td>0.0</td>\n",
       "    </tr>\n",
       "  </tbody>\n",
       "</table>\n",
       "</div>"
      ],
      "text/plain": [
       "   knockout_match game_season  is_goal shot_basics home/away  \\\n",
       "0             0.0     2000-01      NaN   Mid Range   MANUPOR   \n",
       "1             0.0     2000-01      0.0   Mid Range   MANUPOR   \n",
       "2             0.0     2000-01      1.0   Mid Range   MANUPOR   \n",
       "3             0.0     2000-01      0.0   Mid Range   MANUPOR   \n",
       "4             0.0     2000-01      1.0   Goal Area   MANUPOR   \n",
       "\n",
       "                  lat/lng type_of_shot type_of_combined_shot  home_index  \\\n",
       "0  45.539131, -122.651648    shot - 30                   NaN           1   \n",
       "1  45.539131, -122.651648    shot - 45                   NaN           1   \n",
       "2  45.539131, -122.651648    shot - 25                   NaN           1   \n",
       "3  45.539131, -122.651648          NaN              shot - 3           1   \n",
       "4  45.539131, -122.651648          NaN              shot - 1           1   \n",
       "\n",
       "   power_of_shot_new  remaining_time_new  distance_of_shot_new  \\\n",
       "0                1.0               627.0                  38.0   \n",
       "1                1.0               622.0                  35.0   \n",
       "2                1.0               465.0                  36.0   \n",
       "3                1.0               412.0                  42.0   \n",
       "4                2.0                19.0                  20.0   \n",
       "\n",
       "   location_x_new  location_y_new  \n",
       "0           167.0            72.0  \n",
       "1          -157.0             0.0  \n",
       "2          -101.0           135.0  \n",
       "3           138.0           175.0  \n",
       "4             0.0             0.0  "
      ]
     },
     "execution_count": 31,
     "metadata": {},
     "output_type": "execute_result"
    }
   ],
   "source": [
    "temp.head()"
   ]
  },
  {
   "cell_type": "markdown",
   "metadata": {},
   "source": [
    "# SHOT_BASICS"
   ]
  },
  {
   "cell_type": "markdown",
   "metadata": {},
   "source": [
    "temp_shot_basics = pd.get_dummies(temp['shot_basics'])\n",
    "temp = pd.concat([temp, temp_shot_basics], axis=1)\n",
    "del temp['shot_basics']"
   ]
  },
  {
   "cell_type": "code",
   "execution_count": 32,
   "metadata": {},
   "outputs": [],
   "source": [
    "del temp['shot_basics']"
   ]
  },
  {
   "cell_type": "markdown",
   "metadata": {},
   "source": [
    "# TYPE OF SHOT"
   ]
  },
  {
   "cell_type": "code",
   "execution_count": 33,
   "metadata": {},
   "outputs": [],
   "source": [
    "def replace_shot(x):\n",
    "    \n",
    "    if type(x['type_of_shot']) == str :\n",
    "       \n",
    "        if x['type_of_shot'] in ['shot - 32','shot - 4','shot - 44','shot - 12','shot - 17','shot - 52','shot - 56','shot - 15','shot - 38','shot - 39','shot - 36'] :\n",
    "            return  \"type\" + x['type_of_shot']\n",
    "        else :\n",
    "            return \"Other\"\n",
    "    else:\n",
    "        return x['type_of_shot']"
   ]
  },
  {
   "cell_type": "code",
   "execution_count": 34,
   "metadata": {},
   "outputs": [],
   "source": [
    "temp['type_of_shot_new'] = temp.apply(replace_shot,axis=1)\n",
    "del temp['type_of_shot']"
   ]
  },
  {
   "cell_type": "code",
   "execution_count": 35,
   "metadata": {},
   "outputs": [],
   "source": [
    "temp_type_shot = pd.get_dummies(temp['type_of_shot_new'])\n",
    "temp = pd.concat([temp, temp_type_shot], axis=1)\n",
    "del temp['type_of_shot_new']"
   ]
  },
  {
   "cell_type": "markdown",
   "metadata": {},
   "source": [
    "del temp['type_of_shot_new']"
   ]
  },
  {
   "cell_type": "markdown",
   "metadata": {},
   "source": [
    "# COMBINED SHOT"
   ]
  },
  {
   "cell_type": "code",
   "execution_count": 36,
   "metadata": {},
   "outputs": [],
   "source": [
    "temp_type_shot = pd.get_dummies(temp['type_of_combined_shot'])\n",
    "temp = pd.concat([temp, temp_type_shot], axis=1)\n",
    "del temp['type_of_combined_shot']"
   ]
  },
  {
   "cell_type": "markdown",
   "metadata": {},
   "source": [
    "del temp['type_of_combined_shot']"
   ]
  },
  {
   "cell_type": "code",
   "execution_count": null,
   "metadata": {},
   "outputs": [],
   "source": []
  },
  {
   "cell_type": "code",
   "execution_count": null,
   "metadata": {},
   "outputs": [],
   "source": []
  },
  {
   "cell_type": "markdown",
   "metadata": {},
   "source": [
    "# HOME/AWAY"
   ]
  },
  {
   "cell_type": "code",
   "execution_count": 37,
   "metadata": {},
   "outputs": [],
   "source": [
    "temp_home = pd.get_dummies(temp['home/away'])\n",
    "temp = pd.concat([temp, temp_home], axis=1)\n",
    "del temp['home/away']"
   ]
  },
  {
   "cell_type": "markdown",
   "metadata": {},
   "source": [
    "del temp['home/away']"
   ]
  },
  {
   "cell_type": "markdown",
   "metadata": {},
   "source": [
    "temp.to_csv(r'./hello.csv')"
   ]
  },
  {
   "cell_type": "code",
   "execution_count": null,
   "metadata": {},
   "outputs": [],
   "source": []
  },
  {
   "cell_type": "code",
   "execution_count": 38,
   "metadata": {},
   "outputs": [],
   "source": [
    "del temp['lat/lng']\n",
    "del temp['game_season']"
   ]
  },
  {
   "cell_type": "code",
   "execution_count": null,
   "metadata": {},
   "outputs": [],
   "source": []
  },
  {
   "cell_type": "code",
   "execution_count": null,
   "metadata": {},
   "outputs": [],
   "source": []
  },
  {
   "cell_type": "code",
   "execution_count": null,
   "metadata": {},
   "outputs": [],
   "source": []
  },
  {
   "cell_type": "code",
   "execution_count": null,
   "metadata": {},
   "outputs": [],
   "source": []
  },
  {
   "cell_type": "code",
   "execution_count": null,
   "metadata": {},
   "outputs": [],
   "source": []
  },
  {
   "cell_type": "code",
   "execution_count": null,
   "metadata": {},
   "outputs": [],
   "source": []
  },
  {
   "cell_type": "code",
   "execution_count": null,
   "metadata": {},
   "outputs": [],
   "source": []
  },
  {
   "cell_type": "code",
   "execution_count": null,
   "metadata": {},
   "outputs": [],
   "source": []
  },
  {
   "cell_type": "code",
   "execution_count": 39,
   "metadata": {},
   "outputs": [
    {
     "data": {
      "text/html": [
       "<div>\n",
       "<style scoped>\n",
       "    .dataframe tbody tr th:only-of-type {\n",
       "        vertical-align: middle;\n",
       "    }\n",
       "\n",
       "    .dataframe tbody tr th {\n",
       "        vertical-align: top;\n",
       "    }\n",
       "\n",
       "    .dataframe thead th {\n",
       "        text-align: right;\n",
       "    }\n",
       "</style>\n",
       "<table border=\"1\" class=\"dataframe\">\n",
       "  <thead>\n",
       "    <tr style=\"text-align: right;\">\n",
       "      <th></th>\n",
       "      <th>knockout_match</th>\n",
       "      <th>is_goal</th>\n",
       "      <th>home_index</th>\n",
       "      <th>power_of_shot_new</th>\n",
       "      <th>remaining_time_new</th>\n",
       "      <th>distance_of_shot_new</th>\n",
       "      <th>location_x_new</th>\n",
       "      <th>location_y_new</th>\n",
       "      <th>Other</th>\n",
       "      <th>typeshot - 12</th>\n",
       "      <th>...</th>\n",
       "      <th>MANUPOR</th>\n",
       "      <th>MANUSAC</th>\n",
       "      <th>MANUSAN</th>\n",
       "      <th>MANUSAS</th>\n",
       "      <th>MANUSEA</th>\n",
       "      <th>MANUTOR</th>\n",
       "      <th>MANUUTA</th>\n",
       "      <th>MANUUTH</th>\n",
       "      <th>MANUVAN</th>\n",
       "      <th>MANUWAS</th>\n",
       "    </tr>\n",
       "  </thead>\n",
       "  <tbody>\n",
       "    <tr>\n",
       "      <th>0</th>\n",
       "      <td>0.0</td>\n",
       "      <td>NaN</td>\n",
       "      <td>1</td>\n",
       "      <td>1.0</td>\n",
       "      <td>627.0</td>\n",
       "      <td>38.0</td>\n",
       "      <td>167.0</td>\n",
       "      <td>72.0</td>\n",
       "      <td>1</td>\n",
       "      <td>0</td>\n",
       "      <td>...</td>\n",
       "      <td>1</td>\n",
       "      <td>0</td>\n",
       "      <td>0</td>\n",
       "      <td>0</td>\n",
       "      <td>0</td>\n",
       "      <td>0</td>\n",
       "      <td>0</td>\n",
       "      <td>0</td>\n",
       "      <td>0</td>\n",
       "      <td>0</td>\n",
       "    </tr>\n",
       "    <tr>\n",
       "      <th>1</th>\n",
       "      <td>0.0</td>\n",
       "      <td>0.0</td>\n",
       "      <td>1</td>\n",
       "      <td>1.0</td>\n",
       "      <td>622.0</td>\n",
       "      <td>35.0</td>\n",
       "      <td>-157.0</td>\n",
       "      <td>0.0</td>\n",
       "      <td>1</td>\n",
       "      <td>0</td>\n",
       "      <td>...</td>\n",
       "      <td>1</td>\n",
       "      <td>0</td>\n",
       "      <td>0</td>\n",
       "      <td>0</td>\n",
       "      <td>0</td>\n",
       "      <td>0</td>\n",
       "      <td>0</td>\n",
       "      <td>0</td>\n",
       "      <td>0</td>\n",
       "      <td>0</td>\n",
       "    </tr>\n",
       "    <tr>\n",
       "      <th>2</th>\n",
       "      <td>0.0</td>\n",
       "      <td>1.0</td>\n",
       "      <td>1</td>\n",
       "      <td>1.0</td>\n",
       "      <td>465.0</td>\n",
       "      <td>36.0</td>\n",
       "      <td>-101.0</td>\n",
       "      <td>135.0</td>\n",
       "      <td>1</td>\n",
       "      <td>0</td>\n",
       "      <td>...</td>\n",
       "      <td>1</td>\n",
       "      <td>0</td>\n",
       "      <td>0</td>\n",
       "      <td>0</td>\n",
       "      <td>0</td>\n",
       "      <td>0</td>\n",
       "      <td>0</td>\n",
       "      <td>0</td>\n",
       "      <td>0</td>\n",
       "      <td>0</td>\n",
       "    </tr>\n",
       "    <tr>\n",
       "      <th>3</th>\n",
       "      <td>0.0</td>\n",
       "      <td>0.0</td>\n",
       "      <td>1</td>\n",
       "      <td>1.0</td>\n",
       "      <td>412.0</td>\n",
       "      <td>42.0</td>\n",
       "      <td>138.0</td>\n",
       "      <td>175.0</td>\n",
       "      <td>0</td>\n",
       "      <td>0</td>\n",
       "      <td>...</td>\n",
       "      <td>1</td>\n",
       "      <td>0</td>\n",
       "      <td>0</td>\n",
       "      <td>0</td>\n",
       "      <td>0</td>\n",
       "      <td>0</td>\n",
       "      <td>0</td>\n",
       "      <td>0</td>\n",
       "      <td>0</td>\n",
       "      <td>0</td>\n",
       "    </tr>\n",
       "    <tr>\n",
       "      <th>4</th>\n",
       "      <td>0.0</td>\n",
       "      <td>1.0</td>\n",
       "      <td>1</td>\n",
       "      <td>2.0</td>\n",
       "      <td>19.0</td>\n",
       "      <td>20.0</td>\n",
       "      <td>0.0</td>\n",
       "      <td>0.0</td>\n",
       "      <td>0</td>\n",
       "      <td>0</td>\n",
       "      <td>...</td>\n",
       "      <td>1</td>\n",
       "      <td>0</td>\n",
       "      <td>0</td>\n",
       "      <td>0</td>\n",
       "      <td>0</td>\n",
       "      <td>0</td>\n",
       "      <td>0</td>\n",
       "      <td>0</td>\n",
       "      <td>0</td>\n",
       "      <td>0</td>\n",
       "    </tr>\n",
       "  </tbody>\n",
       "</table>\n",
       "<p>5 rows × 64 columns</p>\n",
       "</div>"
      ],
      "text/plain": [
       "   knockout_match  is_goal  home_index  power_of_shot_new  remaining_time_new  \\\n",
       "0             0.0      NaN           1                1.0               627.0   \n",
       "1             0.0      0.0           1                1.0               622.0   \n",
       "2             0.0      1.0           1                1.0               465.0   \n",
       "3             0.0      0.0           1                1.0               412.0   \n",
       "4             0.0      1.0           1                2.0                19.0   \n",
       "\n",
       "   distance_of_shot_new  location_x_new  location_y_new  Other  typeshot - 12  \\\n",
       "0                  38.0           167.0            72.0      1              0   \n",
       "1                  35.0          -157.0             0.0      1              0   \n",
       "2                  36.0          -101.0           135.0      1              0   \n",
       "3                  42.0           138.0           175.0      0              0   \n",
       "4                  20.0             0.0             0.0      0              0   \n",
       "\n",
       "    ...     MANUPOR  MANUSAC  MANUSAN  MANUSAS  MANUSEA  MANUTOR  MANUUTA  \\\n",
       "0   ...           1        0        0        0        0        0        0   \n",
       "1   ...           1        0        0        0        0        0        0   \n",
       "2   ...           1        0        0        0        0        0        0   \n",
       "3   ...           1        0        0        0        0        0        0   \n",
       "4   ...           1        0        0        0        0        0        0   \n",
       "\n",
       "   MANUUTH  MANUVAN  MANUWAS  \n",
       "0        0        0        0  \n",
       "1        0        0        0  \n",
       "2        0        0        0  \n",
       "3        0        0        0  \n",
       "4        0        0        0  \n",
       "\n",
       "[5 rows x 64 columns]"
      ]
     },
     "execution_count": 39,
     "metadata": {},
     "output_type": "execute_result"
    }
   ],
   "source": [
    "temp.head()"
   ]
  },
  {
   "cell_type": "code",
   "execution_count": 40,
   "metadata": {},
   "outputs": [],
   "source": [
    "dataset_train = temp.loc[temp['is_goal'].notnull()]"
   ]
  },
  {
   "cell_type": "code",
   "execution_count": 41,
   "metadata": {},
   "outputs": [
    {
     "data": {
      "text/plain": [
       "(24429, 64)"
      ]
     },
     "execution_count": 41,
     "metadata": {},
     "output_type": "execute_result"
    }
   ],
   "source": [
    "dataset_train.shape"
   ]
  },
  {
   "cell_type": "code",
   "execution_count": 42,
   "metadata": {},
   "outputs": [],
   "source": [
    "dataset_test = temp.loc[temp['is_goal'].isnull()]"
   ]
  },
  {
   "cell_type": "code",
   "execution_count": 43,
   "metadata": {},
   "outputs": [
    {
     "data": {
      "text/plain": [
       "(6268, 64)"
      ]
     },
     "execution_count": 43,
     "metadata": {},
     "output_type": "execute_result"
    }
   ],
   "source": [
    "dataset_test.shape"
   ]
  },
  {
   "cell_type": "code",
   "execution_count": 44,
   "metadata": {},
   "outputs": [
    {
     "data": {
      "text/html": [
       "<div>\n",
       "<style scoped>\n",
       "    .dataframe tbody tr th:only-of-type {\n",
       "        vertical-align: middle;\n",
       "    }\n",
       "\n",
       "    .dataframe tbody tr th {\n",
       "        vertical-align: top;\n",
       "    }\n",
       "\n",
       "    .dataframe thead th {\n",
       "        text-align: right;\n",
       "    }\n",
       "</style>\n",
       "<table border=\"1\" class=\"dataframe\">\n",
       "  <thead>\n",
       "    <tr style=\"text-align: right;\">\n",
       "      <th></th>\n",
       "      <th>knockout_match</th>\n",
       "      <th>is_goal</th>\n",
       "      <th>home_index</th>\n",
       "      <th>power_of_shot_new</th>\n",
       "      <th>remaining_time_new</th>\n",
       "      <th>distance_of_shot_new</th>\n",
       "      <th>location_x_new</th>\n",
       "      <th>location_y_new</th>\n",
       "      <th>Other</th>\n",
       "      <th>typeshot - 12</th>\n",
       "      <th>...</th>\n",
       "      <th>MANUPOR</th>\n",
       "      <th>MANUSAC</th>\n",
       "      <th>MANUSAN</th>\n",
       "      <th>MANUSAS</th>\n",
       "      <th>MANUSEA</th>\n",
       "      <th>MANUTOR</th>\n",
       "      <th>MANUUTA</th>\n",
       "      <th>MANUUTH</th>\n",
       "      <th>MANUVAN</th>\n",
       "      <th>MANUWAS</th>\n",
       "    </tr>\n",
       "  </thead>\n",
       "  <tbody>\n",
       "    <tr>\n",
       "      <th>1</th>\n",
       "      <td>0.0</td>\n",
       "      <td>0.0</td>\n",
       "      <td>1</td>\n",
       "      <td>1.0</td>\n",
       "      <td>622.0</td>\n",
       "      <td>35.0</td>\n",
       "      <td>-157.0</td>\n",
       "      <td>0.0</td>\n",
       "      <td>1</td>\n",
       "      <td>0</td>\n",
       "      <td>...</td>\n",
       "      <td>1</td>\n",
       "      <td>0</td>\n",
       "      <td>0</td>\n",
       "      <td>0</td>\n",
       "      <td>0</td>\n",
       "      <td>0</td>\n",
       "      <td>0</td>\n",
       "      <td>0</td>\n",
       "      <td>0</td>\n",
       "      <td>0</td>\n",
       "    </tr>\n",
       "    <tr>\n",
       "      <th>2</th>\n",
       "      <td>0.0</td>\n",
       "      <td>1.0</td>\n",
       "      <td>1</td>\n",
       "      <td>1.0</td>\n",
       "      <td>465.0</td>\n",
       "      <td>36.0</td>\n",
       "      <td>-101.0</td>\n",
       "      <td>135.0</td>\n",
       "      <td>1</td>\n",
       "      <td>0</td>\n",
       "      <td>...</td>\n",
       "      <td>1</td>\n",
       "      <td>0</td>\n",
       "      <td>0</td>\n",
       "      <td>0</td>\n",
       "      <td>0</td>\n",
       "      <td>0</td>\n",
       "      <td>0</td>\n",
       "      <td>0</td>\n",
       "      <td>0</td>\n",
       "      <td>0</td>\n",
       "    </tr>\n",
       "    <tr>\n",
       "      <th>3</th>\n",
       "      <td>0.0</td>\n",
       "      <td>0.0</td>\n",
       "      <td>1</td>\n",
       "      <td>1.0</td>\n",
       "      <td>412.0</td>\n",
       "      <td>42.0</td>\n",
       "      <td>138.0</td>\n",
       "      <td>175.0</td>\n",
       "      <td>0</td>\n",
       "      <td>0</td>\n",
       "      <td>...</td>\n",
       "      <td>1</td>\n",
       "      <td>0</td>\n",
       "      <td>0</td>\n",
       "      <td>0</td>\n",
       "      <td>0</td>\n",
       "      <td>0</td>\n",
       "      <td>0</td>\n",
       "      <td>0</td>\n",
       "      <td>0</td>\n",
       "      <td>0</td>\n",
       "    </tr>\n",
       "    <tr>\n",
       "      <th>4</th>\n",
       "      <td>0.0</td>\n",
       "      <td>1.0</td>\n",
       "      <td>1</td>\n",
       "      <td>2.0</td>\n",
       "      <td>19.0</td>\n",
       "      <td>20.0</td>\n",
       "      <td>0.0</td>\n",
       "      <td>0.0</td>\n",
       "      <td>0</td>\n",
       "      <td>0</td>\n",
       "      <td>...</td>\n",
       "      <td>1</td>\n",
       "      <td>0</td>\n",
       "      <td>0</td>\n",
       "      <td>0</td>\n",
       "      <td>0</td>\n",
       "      <td>0</td>\n",
       "      <td>0</td>\n",
       "      <td>0</td>\n",
       "      <td>0</td>\n",
       "      <td>0</td>\n",
       "    </tr>\n",
       "    <tr>\n",
       "      <th>5</th>\n",
       "      <td>0.0</td>\n",
       "      <td>0.0</td>\n",
       "      <td>1</td>\n",
       "      <td>3.0</td>\n",
       "      <td>572.0</td>\n",
       "      <td>34.0</td>\n",
       "      <td>-145.0</td>\n",
       "      <td>-11.0</td>\n",
       "      <td>0</td>\n",
       "      <td>0</td>\n",
       "      <td>...</td>\n",
       "      <td>1</td>\n",
       "      <td>0</td>\n",
       "      <td>0</td>\n",
       "      <td>0</td>\n",
       "      <td>0</td>\n",
       "      <td>0</td>\n",
       "      <td>0</td>\n",
       "      <td>0</td>\n",
       "      <td>0</td>\n",
       "      <td>0</td>\n",
       "    </tr>\n",
       "  </tbody>\n",
       "</table>\n",
       "<p>5 rows × 64 columns</p>\n",
       "</div>"
      ],
      "text/plain": [
       "   knockout_match  is_goal  home_index  power_of_shot_new  remaining_time_new  \\\n",
       "1             0.0      0.0           1                1.0               622.0   \n",
       "2             0.0      1.0           1                1.0               465.0   \n",
       "3             0.0      0.0           1                1.0               412.0   \n",
       "4             0.0      1.0           1                2.0                19.0   \n",
       "5             0.0      0.0           1                3.0               572.0   \n",
       "\n",
       "   distance_of_shot_new  location_x_new  location_y_new  Other  typeshot - 12  \\\n",
       "1                  35.0          -157.0             0.0      1              0   \n",
       "2                  36.0          -101.0           135.0      1              0   \n",
       "3                  42.0           138.0           175.0      0              0   \n",
       "4                  20.0             0.0             0.0      0              0   \n",
       "5                  34.0          -145.0           -11.0      0              0   \n",
       "\n",
       "    ...     MANUPOR  MANUSAC  MANUSAN  MANUSAS  MANUSEA  MANUTOR  MANUUTA  \\\n",
       "1   ...           1        0        0        0        0        0        0   \n",
       "2   ...           1        0        0        0        0        0        0   \n",
       "3   ...           1        0        0        0        0        0        0   \n",
       "4   ...           1        0        0        0        0        0        0   \n",
       "5   ...           1        0        0        0        0        0        0   \n",
       "\n",
       "   MANUUTH  MANUVAN  MANUWAS  \n",
       "1        0        0        0  \n",
       "2        0        0        0  \n",
       "3        0        0        0  \n",
       "4        0        0        0  \n",
       "5        0        0        0  \n",
       "\n",
       "[5 rows x 64 columns]"
      ]
     },
     "execution_count": 44,
     "metadata": {},
     "output_type": "execute_result"
    }
   ],
   "source": [
    "dataset_train.head()"
   ]
  },
  {
   "cell_type": "code",
   "execution_count": 45,
   "metadata": {},
   "outputs": [],
   "source": [
    "index_test = dataset_test.index"
   ]
  },
  {
   "cell_type": "code",
   "execution_count": 46,
   "metadata": {},
   "outputs": [],
   "source": [
    "y_train = np.asarray(dataset_train['is_goal'])"
   ]
  },
  {
   "cell_type": "code",
   "execution_count": 47,
   "metadata": {},
   "outputs": [],
   "source": [
    "del dataset_train['is_goal']"
   ]
  },
  {
   "cell_type": "code",
   "execution_count": 48,
   "metadata": {},
   "outputs": [],
   "source": [
    "dataset_train = dataset_train.fillna(0)"
   ]
  },
  {
   "cell_type": "code",
   "execution_count": 49,
   "metadata": {},
   "outputs": [],
   "source": [
    "X_train = np.asarray(dataset_train)"
   ]
  },
  {
   "cell_type": "code",
   "execution_count": 50,
   "metadata": {},
   "outputs": [
    {
     "data": {
      "text/plain": [
       "(24429, 63)"
      ]
     },
     "execution_count": 50,
     "metadata": {},
     "output_type": "execute_result"
    }
   ],
   "source": [
    "X_train.shape"
   ]
  },
  {
   "cell_type": "code",
   "execution_count": 51,
   "metadata": {},
   "outputs": [],
   "source": [
    "del dataset_test['is_goal']"
   ]
  },
  {
   "cell_type": "code",
   "execution_count": 52,
   "metadata": {},
   "outputs": [],
   "source": [
    "dataset_test = dataset_test.fillna(0)"
   ]
  },
  {
   "cell_type": "code",
   "execution_count": 53,
   "metadata": {},
   "outputs": [],
   "source": [
    "X_test = np.asarray(dataset_test)"
   ]
  },
  {
   "cell_type": "code",
   "execution_count": null,
   "metadata": {},
   "outputs": [],
   "source": []
  },
  {
   "cell_type": "code",
   "execution_count": null,
   "metadata": {},
   "outputs": [],
   "source": []
  },
  {
   "cell_type": "code",
   "execution_count": null,
   "metadata": {},
   "outputs": [],
   "source": []
  },
  {
   "cell_type": "code",
   "execution_count": null,
   "metadata": {},
   "outputs": [],
   "source": []
  },
  {
   "cell_type": "markdown",
   "metadata": {},
   "source": [
    "X_train[:,3] = X_train[:,3]/(np.max(X_train[:,3]) - np.min(X_train[:,3]))\n",
    "X_train[:,4] = X_train[:,4]/(np.max(X_train[:,4]) - np.min(X_train[:,4]))\n",
    "X_train[:,5] = X_train[:,5]/(np.max(X_train[:,5]) - np.min(X_train[:,5]))\n",
    "X_train[:,6] = X_train[:,6]/(np.max(X_train[:,6]) - np.min(X_train[:,6]))"
   ]
  },
  {
   "cell_type": "markdown",
   "metadata": {},
   "source": [
    "X_test[:,3] = X_test[:,3]/(np.max(X_test[:,3]) - np.min(X_test[:,3]))\n",
    "X_test[:,4] = X_test[:,4]/(np.max(X_test[:,4]) - np.min(X_test[:,4]))\n",
    "X_test[:,5] = X_test[:,5]/(np.max(X_test[:,5]) - np.min(X_test[:,5]))\n",
    "X_test[:,6] = X_test[:,6]/(np.max(X_test[:,6]) - np.min(X_test[:,6]))"
   ]
  },
  {
   "cell_type": "code",
   "execution_count": null,
   "metadata": {},
   "outputs": [],
   "source": [
    "clf = LogisticRegression(random_state = 0).fit(X_train,y_train)"
   ]
  },
  {
   "cell_type": "code",
   "execution_count": null,
   "metadata": {},
   "outputs": [],
   "source": [
    "y_train_predict = clf.predict_proba(X_train)"
   ]
  },
  {
   "cell_type": "code",
   "execution_count": null,
   "metadata": {},
   "outputs": [],
   "source": [
    "mean_absolute_error(y_train,y_train_predict[:,1])"
   ]
  },
  {
   "cell_type": "code",
   "execution_count": null,
   "metadata": {},
   "outputs": [],
   "source": [
    "clf.score(X_train,y_train)"
   ]
  },
  {
   "cell_type": "code",
   "execution_count": null,
   "metadata": {},
   "outputs": [],
   "source": []
  },
  {
   "cell_type": "code",
   "execution_count": null,
   "metadata": {},
   "outputs": [],
   "source": []
  },
  {
   "cell_type": "code",
   "execution_count": null,
   "metadata": {},
   "outputs": [],
   "source": []
  },
  {
   "cell_type": "code",
   "execution_count": null,
   "metadata": {},
   "outputs": [],
   "source": [
    "from sklearn.ensemble import RandomForestClassifier"
   ]
  },
  {
   "cell_type": "code",
   "execution_count": null,
   "metadata": {},
   "outputs": [],
   "source": [
    "rf = RandomForestClassifier(n_estimators=900, max_features='sqrt' ,max_depth=15,min_samples_split = 5,min_samples_leaf = 4,bootstrap=True,random_state=42)"
   ]
  },
  {
   "cell_type": "code",
   "execution_count": null,
   "metadata": {},
   "outputs": [],
   "source": [
    "rf.fit(X_train, y_train)"
   ]
  },
  {
   "cell_type": "code",
   "execution_count": null,
   "metadata": {},
   "outputs": [],
   "source": [
    "y_train_predict = rf.predict_proba(X_train)"
   ]
  },
  {
   "cell_type": "code",
   "execution_count": null,
   "metadata": {},
   "outputs": [],
   "source": [
    "mean_absolute_error(y_train,y_train_predict[:,1])"
   ]
  },
  {
   "cell_type": "markdown",
   "metadata": {},
   "source": [
    "rf = RandomForestClassifier(n_estimators=200, max_features=10 ,max_depth=15,random_state=0)"
   ]
  },
  {
   "cell_type": "code",
   "execution_count": null,
   "metadata": {},
   "outputs": [],
   "source": []
  },
  {
   "cell_type": "code",
   "execution_count": null,
   "metadata": {},
   "outputs": [],
   "source": [
    "feature_importances = pd.DataFrame(rf.feature_importances_,index = dataset_train.columns,columns=['importance']).sort_values('importance',ascending=False)"
   ]
  },
  {
   "cell_type": "code",
   "execution_count": null,
   "metadata": {},
   "outputs": [],
   "source": [
    "print(feature_importances)"
   ]
  },
  {
   "cell_type": "code",
   "execution_count": null,
   "metadata": {},
   "outputs": [],
   "source": [
    "feature_importances.to_csv(r'./importance.csv')"
   ]
  },
  {
   "cell_type": "code",
   "execution_count": null,
   "metadata": {},
   "outputs": [],
   "source": []
  },
  {
   "cell_type": "code",
   "execution_count": null,
   "metadata": {},
   "outputs": [],
   "source": []
  },
  {
   "cell_type": "code",
   "execution_count": null,
   "metadata": {},
   "outputs": [],
   "source": []
  },
  {
   "cell_type": "code",
   "execution_count": null,
   "metadata": {},
   "outputs": [],
   "source": []
  },
  {
   "cell_type": "code",
   "execution_count": null,
   "metadata": {},
   "outputs": [],
   "source": []
  },
  {
   "cell_type": "code",
   "execution_count": null,
   "metadata": {},
   "outputs": [],
   "source": [
    "from pprint import pprint"
   ]
  },
  {
   "cell_type": "code",
   "execution_count": null,
   "metadata": {},
   "outputs": [],
   "source": [
    "pprint(rf.get_params())"
   ]
  },
  {
   "cell_type": "code",
   "execution_count": null,
   "metadata": {},
   "outputs": [],
   "source": [
    "from sklearn.model_selection import RandomizedSearchCV\n",
    "# Number of trees in random forest\n",
    "n_estimators = [int(x) for x in np.linspace(start = 100, stop = 1000, num = 10)]\n",
    "# Number of features to consider at every split\n",
    "max_features = ['auto', 'sqrt']\n",
    "# Maximum number of levels in tree\n",
    "max_depth = [int(x) for x in np.linspace(5, 50, num = 10)]\n",
    "max_depth.append(None)\n",
    "# Minimum number of samples required to split a node\n",
    "min_samples_split = [2, 5, 10]\n",
    "# Minimum number of samples required at each leaf node\n",
    "min_samples_leaf = [1, 2, 4]\n",
    "# Method of selecting samples for training each tree\n",
    "bootstrap = [True, False]\n",
    "# Create the random grid\n",
    "random_grid = {'n_estimators': n_estimators,\n",
    "               'max_features': max_features,\n",
    "               'max_depth': max_depth,\n",
    "               'min_samples_split': min_samples_split,\n",
    "               'min_samples_leaf': min_samples_leaf,\n",
    "               'bootstrap': bootstrap}\n",
    "pprint(random_grid)\n"
   ]
  },
  {
   "cell_type": "code",
   "execution_count": null,
   "metadata": {},
   "outputs": [],
   "source": [
    "# Use the random grid to search for best hyperparameters\n",
    "# First create the base model to tune\n",
    "rf = RandomForestClassifier()\n",
    "# Random search of parameters, using 3 fold cross validation, \n",
    "# search across 100 different combinations, and use all available cores\n",
    "rf_random = RandomizedSearchCV(estimator = rf, param_distributions = random_grid, n_iter = 100, cv = 3, verbose=2, random_state=42, n_jobs = -1)\n",
    "# Fit the random search model\n",
    "rf_random.fit(X_train, y_train)"
   ]
  },
  {
   "cell_type": "code",
   "execution_count": null,
   "metadata": {},
   "outputs": [],
   "source": [
    "rf_random.best_params_"
   ]
  },
  {
   "cell_type": "code",
   "execution_count": null,
   "metadata": {},
   "outputs": [],
   "source": []
  },
  {
   "cell_type": "code",
   "execution_count": null,
   "metadata": {},
   "outputs": [],
   "source": []
  },
  {
   "cell_type": "code",
   "execution_count": null,
   "metadata": {},
   "outputs": [],
   "source": []
  },
  {
   "cell_type": "code",
   "execution_count": null,
   "metadata": {},
   "outputs": [],
   "source": []
  },
  {
   "cell_type": "code",
   "execution_count": null,
   "metadata": {},
   "outputs": [],
   "source": []
  },
  {
   "cell_type": "code",
   "execution_count": null,
   "metadata": {},
   "outputs": [],
   "source": []
  },
  {
   "cell_type": "code",
   "execution_count": null,
   "metadata": {},
   "outputs": [],
   "source": []
  },
  {
   "cell_type": "code",
   "execution_count": null,
   "metadata": {},
   "outputs": [],
   "source": []
  },
  {
   "cell_type": "code",
   "execution_count": null,
   "metadata": {},
   "outputs": [],
   "source": []
  },
  {
   "cell_type": "code",
   "execution_count": null,
   "metadata": {},
   "outputs": [],
   "source": []
  },
  {
   "cell_type": "code",
   "execution_count": null,
   "metadata": {},
   "outputs": [],
   "source": []
  },
  {
   "cell_type": "code",
   "execution_count": null,
   "metadata": {},
   "outputs": [],
   "source": []
  },
  {
   "cell_type": "code",
   "execution_count": null,
   "metadata": {},
   "outputs": [],
   "source": [
    "dataset_train.head()"
   ]
  },
  {
   "cell_type": "code",
   "execution_count": null,
   "metadata": {},
   "outputs": [],
   "source": [
    "pprint(xgb_model.get_params())"
   ]
  },
  {
   "cell_type": "markdown",
   "metadata": {},
   "source": [
    "temp.to_csv(r'./hello.csv')"
   ]
  },
  {
   "cell_type": "code",
   "execution_count": 54,
   "metadata": {},
   "outputs": [],
   "source": [
    "from xgboost import XGBClassifier"
   ]
  },
  {
   "cell_type": "code",
   "execution_count": 59,
   "metadata": {},
   "outputs": [],
   "source": [
    "xgb_model = XGBClassifier(objective=\"binary:logistic\", random_state=42,max_depth = 3 ,n_estimators = 100,min_child_weight = 2)\n",
    "xgb_model.fit(X_train, y_train)\n",
    "\n",
    "y_train_predict = xgb_model.predict_proba(X_train)"
   ]
  },
  {
   "cell_type": "code",
   "execution_count": 60,
   "metadata": {},
   "outputs": [
    {
     "data": {
      "text/plain": [
       "0.4496575382418546"
      ]
     },
     "execution_count": 60,
     "metadata": {},
     "output_type": "execute_result"
    }
   ],
   "source": [
    "mean_absolute_error(y_train,y_train_predict[:,1])"
   ]
  },
  {
   "cell_type": "markdown",
   "metadata": {},
   "source": [
    "from sklearn.neural_network import MLPClassifier"
   ]
  },
  {
   "cell_type": "markdown",
   "metadata": {},
   "source": [
    " clf = MLPClassifier(solver='lbfgs', alpha=1e-5,hidden_layer_sizes=(64,32,16,8, 2), random_state=1)"
   ]
  },
  {
   "cell_type": "markdown",
   "metadata": {},
   "source": [
    "clf.fit(X_train, y_train)  "
   ]
  },
  {
   "cell_type": "markdown",
   "metadata": {},
   "source": [
    "y_train_predict = clf.predict_proba(X_train)"
   ]
  },
  {
   "cell_type": "markdown",
   "metadata": {},
   "source": [
    "mean_absolute_error(y_train,y_train_predict[:,1])"
   ]
  },
  {
   "cell_type": "code",
   "execution_count": 57,
   "metadata": {},
   "outputs": [
    {
     "name": "stdout",
     "output_type": "stream",
     "text": [
      "Best: -0.364362 using {'n_estimators': 100}\n",
      "-0.366450 (0.005431) with: {'n_estimators': 50}\n",
      "-0.364362 (0.006091) with: {'n_estimators': 100}\n",
      "-0.364362 (0.006116) with: {'n_estimators': 150}\n",
      "-0.364812 (0.006637) with: {'n_estimators': 200}\n",
      "-0.364690 (0.006476) with: {'n_estimators': 250}\n",
      "-0.366204 (0.007047) with: {'n_estimators': 300}\n",
      "-0.367023 (0.006763) with: {'n_estimators': 350}\n",
      "-0.367391 (0.006944) with: {'n_estimators': 400}\n",
      "-0.368046 (0.006964) with: {'n_estimators': 450}\n"
     ]
    }
   ],
   "source": [
    "# XGBoost on Otto dataset, Tune n_estimators\n",
    "from pandas import read_csv\n",
    "from sklearn.model_selection import GridSearchCV\n",
    "from sklearn.model_selection import StratifiedKFold\n",
    "from sklearn.preprocessing import LabelEncoder\n",
    "import matplotlib\n",
    "matplotlib.use('Agg')\n",
    "from matplotlib import pyplot\n",
    "\n",
    "# grid search\n",
    "model = XGBClassifier()\n",
    "n_estimators = range(50,500 , 50)\n",
    "param_grid = dict(n_estimators=n_estimators)\n",
    "kfold = StratifiedKFold(n_splits=10, shuffle=True, random_state=7)\n",
    "grid_search = GridSearchCV(model, param_grid, scoring=\"neg_mean_absolute_error\", n_jobs=-1, cv=kfold)\n",
    "grid_result = grid_search.fit(X_train, y_train)\n",
    "# summarize results\n",
    "print(\"Best: %f using %s\" % (grid_result.best_score_, grid_result.best_params_))\n",
    "means = grid_result.cv_results_['mean_test_score']\n",
    "stds = grid_result.cv_results_['std_test_score']\n",
    "params = grid_result.cv_results_['params']\n",
    "for mean, stdev, param in zip(means, stds, params):\n",
    "\tprint(\"%f (%f) with: %r\" % (mean, stdev, param))\n",
    "# plot\n",
    "pyplot.errorbar(n_estimators, means, yerr=stds)\n",
    "pyplot.title(\"XGBoost n_estimators vs Log Loss\")\n",
    "pyplot.xlabel('n_estimators')\n",
    "pyplot.ylabel('Log Loss')\n",
    "pyplot.savefig('n_estimators.png')"
   ]
  },
  {
   "cell_type": "code",
   "execution_count": 58,
   "metadata": {},
   "outputs": [
    {
     "name": "stdout",
     "output_type": "stream",
     "text": [
      "range(1, 21, 2)\n",
      "Fitting 10 folds for each of 10 candidates, totalling 100 fits\n"
     ]
    },
    {
     "name": "stderr",
     "output_type": "stream",
     "text": [
      "[Parallel(n_jobs=-1)]: Using backend LokyBackend with 4 concurrent workers.\n",
      "[Parallel(n_jobs=-1)]: Done  42 tasks      | elapsed:  1.2min\n",
      "[Parallel(n_jobs=-1)]: Done 100 out of 100 | elapsed:  6.4min finished\n"
     ]
    },
    {
     "name": "stdout",
     "output_type": "stream",
     "text": [
      "Best: -0.364362 using {'max_depth': 3}\n",
      "-0.373286 (0.003987) with: {'max_depth': 1}\n",
      "-0.364362 (0.006091) with: {'max_depth': 3}\n",
      "-0.365713 (0.005037) with: {'max_depth': 5}\n",
      "-0.370339 (0.009073) with: {'max_depth': 7}\n",
      "-0.373572 (0.009200) with: {'max_depth': 9}\n",
      "-0.382783 (0.008828) with: {'max_depth': 11}\n",
      "-0.389332 (0.007595) with: {'max_depth': 13}\n",
      "-0.388514 (0.009825) with: {'max_depth': 15}\n",
      "-0.394613 (0.010524) with: {'max_depth': 17}\n",
      "-0.400303 (0.007783) with: {'max_depth': 19}\n"
     ]
    }
   ],
   "source": [
    "matplotlib.use('Agg')\n",
    "\n",
    "# grid search\n",
    "model = XGBClassifier()\n",
    "max_depth = range(1, 21, 2)\n",
    "print(max_depth)\n",
    "param_grid = dict(max_depth=max_depth)\n",
    "kfold = StratifiedKFold(n_splits=10, shuffle=True, random_state=7)\n",
    "grid_search = GridSearchCV(model, param_grid, scoring=\"neg_mean_absolute_error\", n_jobs=-1, cv=kfold, verbose=1)\n",
    "grid_result = grid_search.fit(X_train, y_train)\n",
    "# summarize results\n",
    "print(\"Best: %f using %s\" % (grid_result.best_score_, grid_result.best_params_))\n",
    "means = grid_result.cv_results_['mean_test_score']\n",
    "stds = grid_result.cv_results_['std_test_score']\n",
    "params = grid_result.cv_results_['params']\n",
    "for mean, stdev, param in zip(means, stds, params):\n",
    "\tprint(\"%f (%f) with: %r\" % (mean, stdev, param))\n",
    "# plot\n",
    "pyplot.errorbar(max_depth, means, yerr=stds)\n",
    "pyplot.title(\"XGBoost max_depth vs Log Loss\")\n",
    "pyplot.xlabel('max_depth')\n",
    "pyplot.ylabel('Log Loss')\n",
    "pyplot.savefig('max_depth.png')"
   ]
  },
  {
   "cell_type": "code",
   "execution_count": null,
   "metadata": {},
   "outputs": [],
   "source": []
  },
  {
   "cell_type": "code",
   "execution_count": null,
   "metadata": {},
   "outputs": [],
   "source": []
  },
  {
   "cell_type": "code",
   "execution_count": null,
   "metadata": {},
   "outputs": [],
   "source": []
  },
  {
   "cell_type": "code",
   "execution_count": null,
   "metadata": {},
   "outputs": [],
   "source": []
  },
  {
   "cell_type": "code",
   "execution_count": null,
   "metadata": {},
   "outputs": [],
   "source": []
  },
  {
   "cell_type": "code",
   "execution_count": 61,
   "metadata": {},
   "outputs": [],
   "source": [
    "y_test_predict =  xgb_model.predict_proba(X_test)"
   ]
  },
  {
   "cell_type": "code",
   "execution_count": 62,
   "metadata": {},
   "outputs": [],
   "source": [
    "y_test_predict = y_test_predict[:,1]\n",
    "y_test_predict = np.around(y_test_predict,decimals=1)"
   ]
  },
  {
   "cell_type": "code",
   "execution_count": 63,
   "metadata": {},
   "outputs": [
    {
     "data": {
      "text/plain": [
       "array([0.4, 0.6, 0.5, ..., 0.7, 0.4, 0.7], dtype=float32)"
      ]
     },
     "execution_count": 63,
     "metadata": {},
     "output_type": "execute_result"
    }
   ],
   "source": [
    "y_test_predict"
   ]
  },
  {
   "cell_type": "code",
   "execution_count": 64,
   "metadata": {},
   "outputs": [],
   "source": [
    "index_test = dataset_test.index\n",
    "index_test = index_test + 1"
   ]
  },
  {
   "cell_type": "code",
   "execution_count": 65,
   "metadata": {},
   "outputs": [
    {
     "data": {
      "text/html": [
       "<div>\n",
       "<style scoped>\n",
       "    .dataframe tbody tr th:only-of-type {\n",
       "        vertical-align: middle;\n",
       "    }\n",
       "\n",
       "    .dataframe tbody tr th {\n",
       "        vertical-align: top;\n",
       "    }\n",
       "\n",
       "    .dataframe thead th {\n",
       "        text-align: right;\n",
       "    }\n",
       "</style>\n",
       "<table border=\"1\" class=\"dataframe\">\n",
       "  <thead>\n",
       "    <tr style=\"text-align: right;\">\n",
       "      <th></th>\n",
       "      <th>shot_id_number</th>\n",
       "      <th>is_goal</th>\n",
       "    </tr>\n",
       "  </thead>\n",
       "  <tbody>\n",
       "    <tr>\n",
       "      <th>1</th>\n",
       "      <td>1</td>\n",
       "      <td>0.4</td>\n",
       "    </tr>\n",
       "    <tr>\n",
       "      <th>8</th>\n",
       "      <td>8</td>\n",
       "      <td>0.6</td>\n",
       "    </tr>\n",
       "    <tr>\n",
       "      <th>17</th>\n",
       "      <td>17</td>\n",
       "      <td>0.5</td>\n",
       "    </tr>\n",
       "    <tr>\n",
       "      <th>20</th>\n",
       "      <td>20</td>\n",
       "      <td>0.7</td>\n",
       "    </tr>\n",
       "    <tr>\n",
       "      <th>22</th>\n",
       "      <td>22</td>\n",
       "      <td>0.4</td>\n",
       "    </tr>\n",
       "  </tbody>\n",
       "</table>\n",
       "</div>"
      ],
      "text/plain": [
       "    shot_id_number  is_goal\n",
       "1                1      0.4\n",
       "8                8      0.6\n",
       "17              17      0.5\n",
       "20              20      0.7\n",
       "22              22      0.4"
      ]
     },
     "execution_count": 65,
     "metadata": {},
     "output_type": "execute_result"
    }
   ],
   "source": [
    "mysubmission = pd.DataFrame( { 'shot_id_number': index_test, 'is_goal' : y_test_predict }, index = index_test )\n",
    "mysubmission.columns = [ 'shot_id_number', 'is_goal' ]\n",
    "mysubmission.head()"
   ]
  },
  {
   "cell_type": "code",
   "execution_count": 66,
   "metadata": {},
   "outputs": [],
   "source": [
    "mysubmission.to_csv(f'Saurabh_Jain_270299_prediction_17.csv', index = False )"
   ]
  },
  {
   "cell_type": "code",
   "execution_count": null,
   "metadata": {},
   "outputs": [],
   "source": []
  }
 ],
 "metadata": {
  "kernelspec": {
   "display_name": "Python 3",
   "language": "python",
   "name": "python3"
  },
  "language_info": {
   "codemirror_mode": {
    "name": "ipython",
    "version": 3
   },
   "file_extension": ".py",
   "mimetype": "text/x-python",
   "name": "python",
   "nbconvert_exporter": "python",
   "pygments_lexer": "ipython3",
   "version": "3.7.0"
  }
 },
 "nbformat": 4,
 "nbformat_minor": 2
}
